{
 "cells": [
  {
   "cell_type": "code",
   "execution_count": 4,
   "id": "be702b5e-81f6-4b50-91c6-b41b2ab9526e",
   "metadata": {},
   "outputs": [],
   "source": [
    "#Importing Libraries"
   ]
  },
  {
   "cell_type": "code",
   "execution_count": 430,
   "id": "0d9a8e67-ea21-4ae6-b022-26de02ddda67",
   "metadata": {},
   "outputs": [],
   "source": [
    "import tensorflow as tf\n",
    "import matplotlib.pyplot as plt\n",
    "import pandas as pd\n",
    "import seaborn as sns"
   ]
  },
  {
   "cell_type": "code",
   "execution_count": 431,
   "id": "a739b104-fe81-4d52-91a4-8caee551abae",
   "metadata": {},
   "outputs": [],
   "source": [
    "##Data Preprocessing"
   ]
  },
  {
   "cell_type": "code",
   "execution_count": 432,
   "id": "0a0ff7ce-a09a-43bf-af15-e231f719cf71",
   "metadata": {},
   "outputs": [],
   "source": [
    "###Training Image Preprocessing"
   ]
  },
  {
   "cell_type": "code",
   "execution_count": 433,
   "id": "622f557b-dfc4-4375-96bc-e831e78a3cb2",
   "metadata": {},
   "outputs": [
    {
     "name": "stdout",
     "output_type": "stream",
     "text": [
      "Found 933 files belonging to 4 classes.\n"
     ]
    }
   ],
   "source": [
    "import tensorflow as tf\n",
    "\n",
    "training_set = tf.keras.utils.image_dataset_from_directory(\n",
    "    'train',\n",
    "    labels=\"inferred\",\n",
    "    label_mode=\"categorical\",\n",
    "    class_names=None,\n",
    "    color_mode=\"rgb\",\n",
    "    batch_size=32,\n",
    "    image_size=(256, 256),\n",
    "    shuffle=True,\n",
    "    seed=None,\n",
    "    validation_split=None,\n",
    "    subset=None,\n",
    "    interpolation=\"bilinear\",\n",
    "    follow_links=False,\n",
    "    crop_to_aspect_ratio=False,\n",
    "    pad_to_aspect_ratio=False,\n",
    ")\n"
   ]
  },
  {
   "cell_type": "code",
   "execution_count": 434,
   "id": "20bbaeba-83cc-4dc3-b79f-d3a2ed3cfb75",
   "metadata": {},
   "outputs": [],
   "source": [
    "#Validation Image Preprocessing"
   ]
  },
  {
   "cell_type": "code",
   "execution_count": 435,
   "id": "4fc54b72-2c61-41ea-a871-8b24ee0766ca",
   "metadata": {},
   "outputs": [
    {
     "name": "stdout",
     "output_type": "stream",
     "text": [
      "Found 320 files belonging to 4 classes.\n"
     ]
    }
   ],
   "source": [
    "validation_set = tf.keras.utils.image_dataset_from_directory(\n",
    "    'valid',\n",
    "    labels=\"inferred\",\n",
    "    label_mode=\"categorical\",\n",
    "    class_names=None,\n",
    "    color_mode=\"rgb\",\n",
    "    batch_size=32,\n",
    "    image_size=(256, 256),\n",
    "    shuffle=True,\n",
    "    seed=None,\n",
    "    validation_split=None,\n",
    "    subset=None,\n",
    "    interpolation=\"bilinear\",\n",
    "    follow_links=False,\n",
    "    crop_to_aspect_ratio=False,\n",
    "    pad_to_aspect_ratio=False,\n",
    ")"
   ]
  },
  {
   "cell_type": "code",
   "execution_count": 436,
   "id": "0a800ef3-4e15-4ef8-9013-b048649e28c2",
   "metadata": {},
   "outputs": [
    {
     "data": {
      "text/plain": [
       "<_PrefetchDataset element_spec=(TensorSpec(shape=(None, 256, 256, 3), dtype=tf.float32, name=None), TensorSpec(shape=(None, 4), dtype=tf.float32, name=None))>"
      ]
     },
     "execution_count": 436,
     "metadata": {},
     "output_type": "execute_result"
    }
   ],
   "source": [
    "training_set"
   ]
  },
  {
   "cell_type": "code",
   "execution_count": 437,
   "id": "68f8db7c-6fed-4b85-9e98-77209f4bdbc1",
   "metadata": {},
   "outputs": [
    {
     "name": "stdout",
     "output_type": "stream",
     "text": [
      "tf.Tensor(\n",
      "[[[[255.      255.      255.     ]\n",
      "   [255.      255.      255.     ]\n",
      "   [255.      255.      255.     ]\n",
      "   ...\n",
      "   [255.      255.      255.     ]\n",
      "   [255.      255.      255.     ]\n",
      "   [255.      255.      255.     ]]\n",
      "\n",
      "  [[255.      255.      255.     ]\n",
      "   [255.      255.      255.     ]\n",
      "   [255.      255.      255.     ]\n",
      "   ...\n",
      "   [255.      255.      255.     ]\n",
      "   [255.      255.      255.     ]\n",
      "   [255.      255.      255.     ]]\n",
      "\n",
      "  [[255.      255.      255.     ]\n",
      "   [255.      255.      255.     ]\n",
      "   [255.      255.      255.     ]\n",
      "   ...\n",
      "   [255.      255.      255.     ]\n",
      "   [255.      255.      255.     ]\n",
      "   [255.      255.      255.     ]]\n",
      "\n",
      "  ...\n",
      "\n",
      "  [[252.80078 252.80078 252.80078]\n",
      "   [252.80078 252.80078 252.80078]\n",
      "   [252.80078 252.80078 252.80078]\n",
      "   ...\n",
      "   [255.      255.      255.     ]\n",
      "   [255.      255.      255.     ]\n",
      "   [255.      255.      255.     ]]\n",
      "\n",
      "  [[253.      253.      253.     ]\n",
      "   [253.      253.      253.     ]\n",
      "   [253.      253.      253.     ]\n",
      "   ...\n",
      "   [255.      255.      255.     ]\n",
      "   [255.      255.      255.     ]\n",
      "   [255.      255.      255.     ]]\n",
      "\n",
      "  [[253.      253.      253.     ]\n",
      "   [253.      253.      253.     ]\n",
      "   [253.      253.      253.     ]\n",
      "   ...\n",
      "   [255.      255.      255.     ]\n",
      "   [255.      255.      255.     ]\n",
      "   [255.      255.      255.     ]]]\n",
      "\n",
      "\n",
      " [[[  0.        0.        0.     ]\n",
      "   [  0.        0.        0.     ]\n",
      "   [  0.        0.        0.     ]\n",
      "   ...\n",
      "   [  0.        0.        0.     ]\n",
      "   [  0.        0.        0.     ]\n",
      "   [  0.        0.        0.     ]]\n",
      "\n",
      "  [[  0.        0.        0.     ]\n",
      "   [  0.        0.        0.     ]\n",
      "   [  0.        0.        0.     ]\n",
      "   ...\n",
      "   [  0.        0.        0.     ]\n",
      "   [  0.        0.        0.     ]\n",
      "   [  0.        0.        0.     ]]\n",
      "\n",
      "  [[  0.        0.        0.     ]\n",
      "   [  0.        0.        0.     ]\n",
      "   [  0.        0.        0.     ]\n",
      "   ...\n",
      "   [  0.        0.        0.     ]\n",
      "   [  0.        0.        0.     ]\n",
      "   [  0.        0.        0.     ]]\n",
      "\n",
      "  ...\n",
      "\n",
      "  [[  0.        0.        0.     ]\n",
      "   [  0.        0.        0.     ]\n",
      "   [  0.        0.        0.     ]\n",
      "   ...\n",
      "   [224.      233.      232.     ]\n",
      "   [225.75    234.75    233.75   ]\n",
      "   [227.1875  236.1875  235.1875 ]]\n",
      "\n",
      "  [[  0.        0.        0.     ]\n",
      "   [  0.        0.        0.     ]\n",
      "   [  0.        0.        0.     ]\n",
      "   ...\n",
      "   [224.8125  233.8125  232.8125 ]\n",
      "   [225.75    234.75    233.75   ]\n",
      "   [226.25    235.25    234.25   ]]\n",
      "\n",
      "  [[  0.        0.        0.     ]\n",
      "   [  0.        0.        0.     ]\n",
      "   [  0.        0.        0.     ]\n",
      "   ...\n",
      "   [226.      235.      234.     ]\n",
      "   [225.25    234.25    233.25   ]\n",
      "   [225.      234.      233.     ]]]\n",
      "\n",
      "\n",
      " [[[255.      255.      255.     ]\n",
      "   [255.      255.      255.     ]\n",
      "   [255.      255.      255.     ]\n",
      "   ...\n",
      "   [255.      255.      255.     ]\n",
      "   [255.      255.      255.     ]\n",
      "   [255.      255.      255.     ]]\n",
      "\n",
      "  [[255.      255.      255.     ]\n",
      "   [255.      255.      255.     ]\n",
      "   [255.      255.      255.     ]\n",
      "   ...\n",
      "   [255.      255.      255.     ]\n",
      "   [255.      255.      255.     ]\n",
      "   [255.      255.      255.     ]]\n",
      "\n",
      "  [[255.      255.      255.     ]\n",
      "   [255.      255.      255.     ]\n",
      "   [255.      255.      255.     ]\n",
      "   ...\n",
      "   [255.      255.      255.     ]\n",
      "   [255.      255.      255.     ]\n",
      "   [255.      255.      255.     ]]\n",
      "\n",
      "  ...\n",
      "\n",
      "  [[234.      235.      230.     ]\n",
      "   [234.      235.      230.     ]\n",
      "   [234.      235.      230.     ]\n",
      "   ...\n",
      "   [250.      251.      246.     ]\n",
      "   [250.      251.      246.     ]\n",
      "   [250.      251.      246.     ]]\n",
      "\n",
      "  [[234.      235.      230.     ]\n",
      "   [234.      235.      230.     ]\n",
      "   [234.      235.      230.     ]\n",
      "   ...\n",
      "   [250.      251.      246.     ]\n",
      "   [250.      251.      246.     ]\n",
      "   [250.      251.      246.     ]]\n",
      "\n",
      "  [[234.      235.      230.     ]\n",
      "   [234.      235.      230.     ]\n",
      "   [234.      235.      230.     ]\n",
      "   ...\n",
      "   [250.      251.      246.     ]\n",
      "   [250.      251.      246.     ]\n",
      "   [250.      251.      246.     ]]]\n",
      "\n",
      "\n",
      " ...\n",
      "\n",
      "\n",
      " [[[255.      255.      255.     ]\n",
      "   [255.      255.      255.     ]\n",
      "   [255.      255.      255.     ]\n",
      "   ...\n",
      "   [255.      255.      255.     ]\n",
      "   [255.      255.      255.     ]\n",
      "   [255.      255.      255.     ]]\n",
      "\n",
      "  [[255.      255.      255.     ]\n",
      "   [255.      255.      255.     ]\n",
      "   [255.      255.      255.     ]\n",
      "   ...\n",
      "   [255.      255.      255.     ]\n",
      "   [255.      255.      255.     ]\n",
      "   [255.      255.      255.     ]]\n",
      "\n",
      "  [[255.      255.      255.     ]\n",
      "   [255.      255.      255.     ]\n",
      "   [255.      255.      255.     ]\n",
      "   ...\n",
      "   [255.      255.      255.     ]\n",
      "   [255.      255.      255.     ]\n",
      "   [255.      255.      255.     ]]\n",
      "\n",
      "  ...\n",
      "\n",
      "  [[252.5     252.5     252.5    ]\n",
      "   [252.5     252.5     252.5    ]\n",
      "   [252.5     252.5     252.5    ]\n",
      "   ...\n",
      "   [252.5     252.5     252.5    ]\n",
      "   [252.5     252.5     252.5    ]\n",
      "   [252.5     252.5     252.5    ]]\n",
      "\n",
      "  [[252.75    252.75    252.75   ]\n",
      "   [252.75    252.75    252.75   ]\n",
      "   [252.75    252.75    252.75   ]\n",
      "   ...\n",
      "   [252.75    252.75    252.75   ]\n",
      "   [252.75    252.75    252.75   ]\n",
      "   [252.75    252.75    252.75   ]]\n",
      "\n",
      "  [[238.5     238.5     238.5    ]\n",
      "   [238.5     238.5     238.5    ]\n",
      "   [238.5     238.5     238.5    ]\n",
      "   ...\n",
      "   [238.5     238.5     238.5    ]\n",
      "   [238.5     238.5     238.5    ]\n",
      "   [238.5     238.5     238.5    ]]]\n",
      "\n",
      "\n",
      " [[[ 65.4375   71.4375   57.4375 ]\n",
      "   [ 67.5      73.25     62.5    ]\n",
      "   [ 74.6875   79.6875   73.4375 ]\n",
      "   ...\n",
      "   [132.4375  167.9375  174.5    ]\n",
      "   [125.375   165.      174.6875 ]\n",
      "   [123.375   166.25    177.8125 ]]\n",
      "\n",
      "  [[ 57.4375   63.4375   49.4375 ]\n",
      "   [ 65.8125   71.5625   60.8125 ]\n",
      "   [ 68.5625   73.5625   67.3125 ]\n",
      "   ...\n",
      "   [148.9375  182.1875  189.6875 ]\n",
      "   [130.375   168.125   176.875  ]\n",
      "   [126.375   166.9375  176.75   ]]\n",
      "\n",
      "  [[ 62.1875   68.1875   54.1875 ]\n",
      "   [ 62.9375   68.6875   57.9375 ]\n",
      "   [ 49.125    54.125    47.875  ]\n",
      "   ...\n",
      "   [160.      191.125   196.25   ]\n",
      "   [139.625   174.      182.4375 ]\n",
      "   [138.5625  176.3125  184.3125 ]]\n",
      "\n",
      "  ...\n",
      "\n",
      "  [[ 64.25     81.25     71.25   ]\n",
      "   [ 50.9375   67.9375   57.9375 ]\n",
      "   [ 35.625    52.625    42.625  ]\n",
      "   ...\n",
      "   [  1.       13.        1.     ]\n",
      "   [  1.       13.        1.     ]\n",
      "   [  1.       13.        1.     ]]\n",
      "\n",
      "  [[ 65.25     82.25     72.25   ]\n",
      "   [ 53.25     70.25     60.25   ]\n",
      "   [ 27.6875   44.6875   34.6875 ]\n",
      "   ...\n",
      "   [  1.       13.        1.     ]\n",
      "   [  1.       13.        1.     ]\n",
      "   [  1.       13.        1.     ]]\n",
      "\n",
      "  [[ 70.1875   87.1875   77.1875 ]\n",
      "   [ 65.75     82.75     72.75   ]\n",
      "   [ 37.75     54.75     44.75   ]\n",
      "   ...\n",
      "   [  1.       13.        1.     ]\n",
      "   [  1.       13.        1.     ]\n",
      "   [  1.       13.        1.     ]]]\n",
      "\n",
      "\n",
      " [[[  0.        0.        0.     ]\n",
      "   [  0.        0.        0.     ]\n",
      "   [  0.        0.        0.     ]\n",
      "   ...\n",
      "   [  0.        0.        0.     ]\n",
      "   [  0.        0.        0.     ]\n",
      "   [  0.        0.        0.     ]]\n",
      "\n",
      "  [[  0.        0.        0.     ]\n",
      "   [  0.        0.        0.     ]\n",
      "   [  0.        0.        0.     ]\n",
      "   ...\n",
      "   [  0.        0.        0.     ]\n",
      "   [  0.        0.        0.     ]\n",
      "   [  0.        0.        0.     ]]\n",
      "\n",
      "  [[  0.        0.        0.     ]\n",
      "   [  0.        0.        0.     ]\n",
      "   [  0.        0.        0.     ]\n",
      "   ...\n",
      "   [  0.        0.        0.     ]\n",
      "   [  0.        0.        0.     ]\n",
      "   [  0.        0.        0.     ]]\n",
      "\n",
      "  ...\n",
      "\n",
      "  [[  0.        0.        0.     ]\n",
      "   [  0.        0.        0.     ]\n",
      "   [  0.        0.        0.     ]\n",
      "   ...\n",
      "   [  0.        0.        0.     ]\n",
      "   [  0.        0.        0.     ]\n",
      "   [  0.        0.        0.     ]]\n",
      "\n",
      "  [[  0.        0.        0.     ]\n",
      "   [  0.        0.        0.     ]\n",
      "   [  0.        0.        0.     ]\n",
      "   ...\n",
      "   [  0.        0.        0.     ]\n",
      "   [  0.        0.        0.     ]\n",
      "   [  0.        0.        0.     ]]\n",
      "\n",
      "  [[  0.        0.        0.     ]\n",
      "   [  0.        0.        0.     ]\n",
      "   [  0.        0.        0.     ]\n",
      "   ...\n",
      "   [  0.        0.        0.     ]\n",
      "   [  0.        0.        0.     ]\n",
      "   [  0.        0.        0.     ]]]], shape=(32, 256, 256, 3), dtype=float32) (32, 256, 256, 3)\n",
      "tf.Tensor(\n",
      "[[0. 0. 1. 0.]\n",
      " [1. 0. 0. 0.]\n",
      " [0. 1. 0. 0.]\n",
      " [1. 0. 0. 0.]\n",
      " [1. 0. 0. 0.]\n",
      " [1. 0. 0. 0.]\n",
      " [0. 1. 0. 0.]\n",
      " [0. 1. 0. 0.]\n",
      " [1. 0. 0. 0.]\n",
      " [1. 0. 0. 0.]\n",
      " [0. 1. 0. 0.]\n",
      " [0. 1. 0. 0.]\n",
      " [0. 1. 0. 0.]\n",
      " [1. 0. 0. 0.]\n",
      " [1. 0. 0. 0.]\n",
      " [1. 0. 0. 0.]\n",
      " [0. 1. 0. 0.]\n",
      " [1. 0. 0. 0.]\n",
      " [0. 1. 0. 0.]\n",
      " [1. 0. 0. 0.]\n",
      " [1. 0. 0. 0.]\n",
      " [0. 0. 1. 0.]\n",
      " [0. 1. 0. 0.]\n",
      " [1. 0. 0. 0.]\n",
      " [0. 1. 0. 0.]\n",
      " [0. 1. 0. 0.]\n",
      " [1. 0. 0. 0.]\n",
      " [1. 0. 0. 0.]\n",
      " [1. 0. 0. 0.]\n",
      " [0. 1. 0. 0.]\n",
      " [1. 0. 0. 0.]\n",
      " [0. 1. 0. 0.]], shape=(32, 4), dtype=float32) (32, 4)\n"
     ]
    }
   ],
   "source": [
    "for x,y in training_set:\n",
    "    print(x,x.shape)\n",
    "    print(y,y.shape)\n",
    "    break"
   ]
  },
  {
   "cell_type": "code",
   "execution_count": 438,
   "id": "15e40ba5-d58c-46eb-aa0b-76a540203f84",
   "metadata": {},
   "outputs": [],
   "source": [
    "#Building Model"
   ]
  },
  {
   "cell_type": "code",
   "execution_count": 478,
   "id": "1f48468b-8624-4a18-8298-1bbb8f4e4e4a",
   "metadata": {},
   "outputs": [],
   "source": [
    "from tensorflow.keras.layers import Dense,Conv2D,MaxPool2D,Flatten,Dropout\n",
    "from tensorflow.keras.models import Sequential"
   ]
  },
  {
   "cell_type": "code",
   "execution_count": 479,
   "id": "8daf9330-53de-4f20-99f4-8380f8fc9178",
   "metadata": {},
   "outputs": [],
   "source": [
    "model = Sequential()"
   ]
  },
  {
   "cell_type": "code",
   "execution_count": 480,
   "id": "cbc1aacd-c7cf-490a-a4b1-f866e525f44e",
   "metadata": {},
   "outputs": [],
   "source": [
    "##Building Convolutinal Layer"
   ]
  },
  {
   "cell_type": "code",
   "execution_count": 481,
   "id": "07889e16-de78-405c-b1bf-5ae46cfad025",
   "metadata": {},
   "outputs": [],
   "source": [
    "model.add(Conv2D(filters=32,kernel_size=3,padding='same',activation='relu',input_shape=[256,256,3]))\n",
    "model.add(Conv2D(filters=32,kernel_size=3,activation='relu'))\n",
    "model.add(MaxPool2D(pool_size=2,strides=2))"
   ]
  },
  {
   "cell_type": "code",
   "execution_count": 482,
   "id": "5b9778a6-25c9-45ad-a3f8-7a0b8e5bca71",
   "metadata": {},
   "outputs": [],
   "source": [
    "model.add(Conv2D(filters=64,kernel_size=3,padding='same',activation='relu'))\n",
    "model.add(Conv2D(filters=64,kernel_size=3,activation='relu'))\n",
    "model.add(MaxPool2D(pool_size=2,strides=2))"
   ]
  },
  {
   "cell_type": "code",
   "execution_count": 483,
   "id": "fdd5600c-c6e5-4942-b925-443f941df223",
   "metadata": {},
   "outputs": [],
   "source": [
    "model.add(Conv2D(filters=128,kernel_size=3,padding='same',activation='relu'))\n",
    "model.add(Conv2D(filters=128,kernel_size=3,activation='relu'))\n",
    "model.add(MaxPool2D(pool_size=2,strides=2))"
   ]
  },
  {
   "cell_type": "code",
   "execution_count": 484,
   "id": "8170eb39-9769-4742-9db9-016248d62178",
   "metadata": {},
   "outputs": [],
   "source": [
    "model.add(Conv2D(filters=256,kernel_size=3,padding='same',activation='relu'))\n",
    "model.add(Conv2D(filters=256,kernel_size=3,activation='relu'))\n",
    "model.add(MaxPool2D(pool_size=2,strides=2))"
   ]
  },
  {
   "cell_type": "code",
   "execution_count": 485,
   "id": "d89548a0-0110-4395-9fd3-b149dcfa4e66",
   "metadata": {},
   "outputs": [],
   "source": [
    "model.add(Conv2D(filters=512,kernel_size=3,padding='same',activation='relu'))\n",
    "model.add(Conv2D(filters=512,kernel_size=3,activation='relu'))\n",
    "model.add(MaxPool2D(pool_size=2,strides=2))"
   ]
  },
  {
   "cell_type": "code",
   "execution_count": 486,
   "id": "8c2f809b-2e4b-4fc7-9ff5-a21fd0cf0d9c",
   "metadata": {},
   "outputs": [],
   "source": [
    "model.add(Dropout(0.25))"
   ]
  },
  {
   "cell_type": "code",
   "execution_count": 487,
   "id": "630cfdca-a0e5-49f6-9141-1e6c00846485",
   "metadata": {},
   "outputs": [],
   "source": [
    "model.add(Flatten())"
   ]
  },
  {
   "cell_type": "code",
   "execution_count": 488,
   "id": "1f52415b-23bb-439b-b55a-bb5b1fe1ea79",
   "metadata": {},
   "outputs": [],
   "source": [
    "model.add(Dense(units=1500,activation='relu'))"
   ]
  },
  {
   "cell_type": "code",
   "execution_count": 489,
   "id": "1a077934-380d-4089-b979-bb0e831556bb",
   "metadata": {},
   "outputs": [],
   "source": [
    "model.add(Dropout(0.4))"
   ]
  },
  {
   "cell_type": "code",
   "execution_count": 490,
   "id": "163fc25d-5028-4df9-a82d-5e3c568b186b",
   "metadata": {},
   "outputs": [],
   "source": [
    "#output Layer\n",
    "model.add(Dense(units=4,activation='softmax'))"
   ]
  },
  {
   "cell_type": "code",
   "execution_count": 491,
   "id": "ff0f19b2-dc80-471b-9edf-38761d58e6b9",
   "metadata": {},
   "outputs": [],
   "source": [
    "#compiling Model"
   ]
  },
  {
   "cell_type": "code",
   "execution_count": 492,
   "id": "a1296372-d78b-4458-b0fe-96c16d8d2388",
   "metadata": {},
   "outputs": [],
   "source": [
    "model.compile(optimizer=tf.keras.optimizers.Adam(\n",
    "    learning_rate=0.0001),loss='categorical_crossentropy',metrics=['accuracy'])"
   ]
  },
  {
   "cell_type": "code",
   "execution_count": 493,
   "id": "7162b441-6906-47d4-8001-0907edf37162",
   "metadata": {},
   "outputs": [
    {
     "data": {
      "text/html": [
       "<pre style=\"white-space:pre;overflow-x:auto;line-height:normal;font-family:Menlo,'DejaVu Sans Mono',consolas,'Courier New',monospace\"><span style=\"font-weight: bold\">Model: \"sequential_28\"</span>\n",
       "</pre>\n"
      ],
      "text/plain": [
       "\u001b[1mModel: \"sequential_28\"\u001b[0m\n"
      ]
     },
     "metadata": {},
     "output_type": "display_data"
    },
    {
     "data": {
      "text/html": [
       "<pre style=\"white-space:pre;overflow-x:auto;line-height:normal;font-family:Menlo,'DejaVu Sans Mono',consolas,'Courier New',monospace\">┏━━━━━━━━━━━━━━━━━━━━━━━━━━━━━━━━━━━━━━┳━━━━━━━━━━━━━━━━━━━━━━━━━━━━━┳━━━━━━━━━━━━━━━━━┓\n",
       "┃<span style=\"font-weight: bold\"> Layer (type)                         </span>┃<span style=\"font-weight: bold\"> Output Shape                </span>┃<span style=\"font-weight: bold\">         Param # </span>┃\n",
       "┡━━━━━━━━━━━━━━━━━━━━━━━━━━━━━━━━━━━━━━╇━━━━━━━━━━━━━━━━━━━━━━━━━━━━━╇━━━━━━━━━━━━━━━━━┩\n",
       "│ conv2d_262 (<span style=\"color: #0087ff; text-decoration-color: #0087ff\">Conv2D</span>)                  │ (<span style=\"color: #00d7ff; text-decoration-color: #00d7ff\">None</span>, <span style=\"color: #00af00; text-decoration-color: #00af00\">256</span>, <span style=\"color: #00af00; text-decoration-color: #00af00\">256</span>, <span style=\"color: #00af00; text-decoration-color: #00af00\">32</span>)        │             <span style=\"color: #00af00; text-decoration-color: #00af00\">896</span> │\n",
       "├──────────────────────────────────────┼─────────────────────────────┼─────────────────┤\n",
       "│ conv2d_263 (<span style=\"color: #0087ff; text-decoration-color: #0087ff\">Conv2D</span>)                  │ (<span style=\"color: #00d7ff; text-decoration-color: #00d7ff\">None</span>, <span style=\"color: #00af00; text-decoration-color: #00af00\">254</span>, <span style=\"color: #00af00; text-decoration-color: #00af00\">254</span>, <span style=\"color: #00af00; text-decoration-color: #00af00\">32</span>)        │           <span style=\"color: #00af00; text-decoration-color: #00af00\">9,248</span> │\n",
       "├──────────────────────────────────────┼─────────────────────────────┼─────────────────┤\n",
       "│ max_pooling2d_128 (<span style=\"color: #0087ff; text-decoration-color: #0087ff\">MaxPooling2D</span>)     │ (<span style=\"color: #00d7ff; text-decoration-color: #00d7ff\">None</span>, <span style=\"color: #00af00; text-decoration-color: #00af00\">127</span>, <span style=\"color: #00af00; text-decoration-color: #00af00\">127</span>, <span style=\"color: #00af00; text-decoration-color: #00af00\">32</span>)        │               <span style=\"color: #00af00; text-decoration-color: #00af00\">0</span> │\n",
       "├──────────────────────────────────────┼─────────────────────────────┼─────────────────┤\n",
       "│ conv2d_264 (<span style=\"color: #0087ff; text-decoration-color: #0087ff\">Conv2D</span>)                  │ (<span style=\"color: #00d7ff; text-decoration-color: #00d7ff\">None</span>, <span style=\"color: #00af00; text-decoration-color: #00af00\">127</span>, <span style=\"color: #00af00; text-decoration-color: #00af00\">127</span>, <span style=\"color: #00af00; text-decoration-color: #00af00\">64</span>)        │          <span style=\"color: #00af00; text-decoration-color: #00af00\">18,496</span> │\n",
       "├──────────────────────────────────────┼─────────────────────────────┼─────────────────┤\n",
       "│ conv2d_265 (<span style=\"color: #0087ff; text-decoration-color: #0087ff\">Conv2D</span>)                  │ (<span style=\"color: #00d7ff; text-decoration-color: #00d7ff\">None</span>, <span style=\"color: #00af00; text-decoration-color: #00af00\">125</span>, <span style=\"color: #00af00; text-decoration-color: #00af00\">125</span>, <span style=\"color: #00af00; text-decoration-color: #00af00\">64</span>)        │          <span style=\"color: #00af00; text-decoration-color: #00af00\">36,928</span> │\n",
       "├──────────────────────────────────────┼─────────────────────────────┼─────────────────┤\n",
       "│ max_pooling2d_129 (<span style=\"color: #0087ff; text-decoration-color: #0087ff\">MaxPooling2D</span>)     │ (<span style=\"color: #00d7ff; text-decoration-color: #00d7ff\">None</span>, <span style=\"color: #00af00; text-decoration-color: #00af00\">62</span>, <span style=\"color: #00af00; text-decoration-color: #00af00\">62</span>, <span style=\"color: #00af00; text-decoration-color: #00af00\">64</span>)          │               <span style=\"color: #00af00; text-decoration-color: #00af00\">0</span> │\n",
       "├──────────────────────────────────────┼─────────────────────────────┼─────────────────┤\n",
       "│ conv2d_266 (<span style=\"color: #0087ff; text-decoration-color: #0087ff\">Conv2D</span>)                  │ (<span style=\"color: #00d7ff; text-decoration-color: #00d7ff\">None</span>, <span style=\"color: #00af00; text-decoration-color: #00af00\">62</span>, <span style=\"color: #00af00; text-decoration-color: #00af00\">62</span>, <span style=\"color: #00af00; text-decoration-color: #00af00\">128</span>)         │          <span style=\"color: #00af00; text-decoration-color: #00af00\">73,856</span> │\n",
       "├──────────────────────────────────────┼─────────────────────────────┼─────────────────┤\n",
       "│ conv2d_267 (<span style=\"color: #0087ff; text-decoration-color: #0087ff\">Conv2D</span>)                  │ (<span style=\"color: #00d7ff; text-decoration-color: #00d7ff\">None</span>, <span style=\"color: #00af00; text-decoration-color: #00af00\">60</span>, <span style=\"color: #00af00; text-decoration-color: #00af00\">60</span>, <span style=\"color: #00af00; text-decoration-color: #00af00\">128</span>)         │         <span style=\"color: #00af00; text-decoration-color: #00af00\">147,584</span> │\n",
       "├──────────────────────────────────────┼─────────────────────────────┼─────────────────┤\n",
       "│ max_pooling2d_130 (<span style=\"color: #0087ff; text-decoration-color: #0087ff\">MaxPooling2D</span>)     │ (<span style=\"color: #00d7ff; text-decoration-color: #00d7ff\">None</span>, <span style=\"color: #00af00; text-decoration-color: #00af00\">30</span>, <span style=\"color: #00af00; text-decoration-color: #00af00\">30</span>, <span style=\"color: #00af00; text-decoration-color: #00af00\">128</span>)         │               <span style=\"color: #00af00; text-decoration-color: #00af00\">0</span> │\n",
       "├──────────────────────────────────────┼─────────────────────────────┼─────────────────┤\n",
       "│ conv2d_268 (<span style=\"color: #0087ff; text-decoration-color: #0087ff\">Conv2D</span>)                  │ (<span style=\"color: #00d7ff; text-decoration-color: #00d7ff\">None</span>, <span style=\"color: #00af00; text-decoration-color: #00af00\">30</span>, <span style=\"color: #00af00; text-decoration-color: #00af00\">30</span>, <span style=\"color: #00af00; text-decoration-color: #00af00\">256</span>)         │         <span style=\"color: #00af00; text-decoration-color: #00af00\">295,168</span> │\n",
       "├──────────────────────────────────────┼─────────────────────────────┼─────────────────┤\n",
       "│ conv2d_269 (<span style=\"color: #0087ff; text-decoration-color: #0087ff\">Conv2D</span>)                  │ (<span style=\"color: #00d7ff; text-decoration-color: #00d7ff\">None</span>, <span style=\"color: #00af00; text-decoration-color: #00af00\">28</span>, <span style=\"color: #00af00; text-decoration-color: #00af00\">28</span>, <span style=\"color: #00af00; text-decoration-color: #00af00\">256</span>)         │         <span style=\"color: #00af00; text-decoration-color: #00af00\">590,080</span> │\n",
       "├──────────────────────────────────────┼─────────────────────────────┼─────────────────┤\n",
       "│ max_pooling2d_131 (<span style=\"color: #0087ff; text-decoration-color: #0087ff\">MaxPooling2D</span>)     │ (<span style=\"color: #00d7ff; text-decoration-color: #00d7ff\">None</span>, <span style=\"color: #00af00; text-decoration-color: #00af00\">14</span>, <span style=\"color: #00af00; text-decoration-color: #00af00\">14</span>, <span style=\"color: #00af00; text-decoration-color: #00af00\">256</span>)         │               <span style=\"color: #00af00; text-decoration-color: #00af00\">0</span> │\n",
       "├──────────────────────────────────────┼─────────────────────────────┼─────────────────┤\n",
       "│ conv2d_270 (<span style=\"color: #0087ff; text-decoration-color: #0087ff\">Conv2D</span>)                  │ (<span style=\"color: #00d7ff; text-decoration-color: #00d7ff\">None</span>, <span style=\"color: #00af00; text-decoration-color: #00af00\">14</span>, <span style=\"color: #00af00; text-decoration-color: #00af00\">14</span>, <span style=\"color: #00af00; text-decoration-color: #00af00\">512</span>)         │       <span style=\"color: #00af00; text-decoration-color: #00af00\">1,180,160</span> │\n",
       "├──────────────────────────────────────┼─────────────────────────────┼─────────────────┤\n",
       "│ conv2d_271 (<span style=\"color: #0087ff; text-decoration-color: #0087ff\">Conv2D</span>)                  │ (<span style=\"color: #00d7ff; text-decoration-color: #00d7ff\">None</span>, <span style=\"color: #00af00; text-decoration-color: #00af00\">12</span>, <span style=\"color: #00af00; text-decoration-color: #00af00\">12</span>, <span style=\"color: #00af00; text-decoration-color: #00af00\">512</span>)         │       <span style=\"color: #00af00; text-decoration-color: #00af00\">2,359,808</span> │\n",
       "├──────────────────────────────────────┼─────────────────────────────┼─────────────────┤\n",
       "│ max_pooling2d_132 (<span style=\"color: #0087ff; text-decoration-color: #0087ff\">MaxPooling2D</span>)     │ (<span style=\"color: #00d7ff; text-decoration-color: #00d7ff\">None</span>, <span style=\"color: #00af00; text-decoration-color: #00af00\">6</span>, <span style=\"color: #00af00; text-decoration-color: #00af00\">6</span>, <span style=\"color: #00af00; text-decoration-color: #00af00\">512</span>)           │               <span style=\"color: #00af00; text-decoration-color: #00af00\">0</span> │\n",
       "├──────────────────────────────────────┼─────────────────────────────┼─────────────────┤\n",
       "│ dropout_30 (<span style=\"color: #0087ff; text-decoration-color: #0087ff\">Dropout</span>)                 │ (<span style=\"color: #00d7ff; text-decoration-color: #00d7ff\">None</span>, <span style=\"color: #00af00; text-decoration-color: #00af00\">6</span>, <span style=\"color: #00af00; text-decoration-color: #00af00\">6</span>, <span style=\"color: #00af00; text-decoration-color: #00af00\">512</span>)           │               <span style=\"color: #00af00; text-decoration-color: #00af00\">0</span> │\n",
       "├──────────────────────────────────────┼─────────────────────────────┼─────────────────┤\n",
       "│ flatten_27 (<span style=\"color: #0087ff; text-decoration-color: #0087ff\">Flatten</span>)                 │ (<span style=\"color: #00d7ff; text-decoration-color: #00d7ff\">None</span>, <span style=\"color: #00af00; text-decoration-color: #00af00\">18432</span>)               │               <span style=\"color: #00af00; text-decoration-color: #00af00\">0</span> │\n",
       "├──────────────────────────────────────┼─────────────────────────────┼─────────────────┤\n",
       "│ dense_57 (<span style=\"color: #0087ff; text-decoration-color: #0087ff\">Dense</span>)                     │ (<span style=\"color: #00d7ff; text-decoration-color: #00d7ff\">None</span>, <span style=\"color: #00af00; text-decoration-color: #00af00\">1500</span>)                │      <span style=\"color: #00af00; text-decoration-color: #00af00\">27,649,500</span> │\n",
       "├──────────────────────────────────────┼─────────────────────────────┼─────────────────┤\n",
       "│ dropout_31 (<span style=\"color: #0087ff; text-decoration-color: #0087ff\">Dropout</span>)                 │ (<span style=\"color: #00d7ff; text-decoration-color: #00d7ff\">None</span>, <span style=\"color: #00af00; text-decoration-color: #00af00\">1500</span>)                │               <span style=\"color: #00af00; text-decoration-color: #00af00\">0</span> │\n",
       "├──────────────────────────────────────┼─────────────────────────────┼─────────────────┤\n",
       "│ dense_58 (<span style=\"color: #0087ff; text-decoration-color: #0087ff\">Dense</span>)                     │ (<span style=\"color: #00d7ff; text-decoration-color: #00d7ff\">None</span>, <span style=\"color: #00af00; text-decoration-color: #00af00\">4</span>)                   │           <span style=\"color: #00af00; text-decoration-color: #00af00\">6,004</span> │\n",
       "└──────────────────────────────────────┴─────────────────────────────┴─────────────────┘\n",
       "</pre>\n"
      ],
      "text/plain": [
       "┏━━━━━━━━━━━━━━━━━━━━━━━━━━━━━━━━━━━━━━┳━━━━━━━━━━━━━━━━━━━━━━━━━━━━━┳━━━━━━━━━━━━━━━━━┓\n",
       "┃\u001b[1m \u001b[0m\u001b[1mLayer (type)                        \u001b[0m\u001b[1m \u001b[0m┃\u001b[1m \u001b[0m\u001b[1mOutput Shape               \u001b[0m\u001b[1m \u001b[0m┃\u001b[1m \u001b[0m\u001b[1m        Param #\u001b[0m\u001b[1m \u001b[0m┃\n",
       "┡━━━━━━━━━━━━━━━━━━━━━━━━━━━━━━━━━━━━━━╇━━━━━━━━━━━━━━━━━━━━━━━━━━━━━╇━━━━━━━━━━━━━━━━━┩\n",
       "│ conv2d_262 (\u001b[38;5;33mConv2D\u001b[0m)                  │ (\u001b[38;5;45mNone\u001b[0m, \u001b[38;5;34m256\u001b[0m, \u001b[38;5;34m256\u001b[0m, \u001b[38;5;34m32\u001b[0m)        │             \u001b[38;5;34m896\u001b[0m │\n",
       "├──────────────────────────────────────┼─────────────────────────────┼─────────────────┤\n",
       "│ conv2d_263 (\u001b[38;5;33mConv2D\u001b[0m)                  │ (\u001b[38;5;45mNone\u001b[0m, \u001b[38;5;34m254\u001b[0m, \u001b[38;5;34m254\u001b[0m, \u001b[38;5;34m32\u001b[0m)        │           \u001b[38;5;34m9,248\u001b[0m │\n",
       "├──────────────────────────────────────┼─────────────────────────────┼─────────────────┤\n",
       "│ max_pooling2d_128 (\u001b[38;5;33mMaxPooling2D\u001b[0m)     │ (\u001b[38;5;45mNone\u001b[0m, \u001b[38;5;34m127\u001b[0m, \u001b[38;5;34m127\u001b[0m, \u001b[38;5;34m32\u001b[0m)        │               \u001b[38;5;34m0\u001b[0m │\n",
       "├──────────────────────────────────────┼─────────────────────────────┼─────────────────┤\n",
       "│ conv2d_264 (\u001b[38;5;33mConv2D\u001b[0m)                  │ (\u001b[38;5;45mNone\u001b[0m, \u001b[38;5;34m127\u001b[0m, \u001b[38;5;34m127\u001b[0m, \u001b[38;5;34m64\u001b[0m)        │          \u001b[38;5;34m18,496\u001b[0m │\n",
       "├──────────────────────────────────────┼─────────────────────────────┼─────────────────┤\n",
       "│ conv2d_265 (\u001b[38;5;33mConv2D\u001b[0m)                  │ (\u001b[38;5;45mNone\u001b[0m, \u001b[38;5;34m125\u001b[0m, \u001b[38;5;34m125\u001b[0m, \u001b[38;5;34m64\u001b[0m)        │          \u001b[38;5;34m36,928\u001b[0m │\n",
       "├──────────────────────────────────────┼─────────────────────────────┼─────────────────┤\n",
       "│ max_pooling2d_129 (\u001b[38;5;33mMaxPooling2D\u001b[0m)     │ (\u001b[38;5;45mNone\u001b[0m, \u001b[38;5;34m62\u001b[0m, \u001b[38;5;34m62\u001b[0m, \u001b[38;5;34m64\u001b[0m)          │               \u001b[38;5;34m0\u001b[0m │\n",
       "├──────────────────────────────────────┼─────────────────────────────┼─────────────────┤\n",
       "│ conv2d_266 (\u001b[38;5;33mConv2D\u001b[0m)                  │ (\u001b[38;5;45mNone\u001b[0m, \u001b[38;5;34m62\u001b[0m, \u001b[38;5;34m62\u001b[0m, \u001b[38;5;34m128\u001b[0m)         │          \u001b[38;5;34m73,856\u001b[0m │\n",
       "├──────────────────────────────────────┼─────────────────────────────┼─────────────────┤\n",
       "│ conv2d_267 (\u001b[38;5;33mConv2D\u001b[0m)                  │ (\u001b[38;5;45mNone\u001b[0m, \u001b[38;5;34m60\u001b[0m, \u001b[38;5;34m60\u001b[0m, \u001b[38;5;34m128\u001b[0m)         │         \u001b[38;5;34m147,584\u001b[0m │\n",
       "├──────────────────────────────────────┼─────────────────────────────┼─────────────────┤\n",
       "│ max_pooling2d_130 (\u001b[38;5;33mMaxPooling2D\u001b[0m)     │ (\u001b[38;5;45mNone\u001b[0m, \u001b[38;5;34m30\u001b[0m, \u001b[38;5;34m30\u001b[0m, \u001b[38;5;34m128\u001b[0m)         │               \u001b[38;5;34m0\u001b[0m │\n",
       "├──────────────────────────────────────┼─────────────────────────────┼─────────────────┤\n",
       "│ conv2d_268 (\u001b[38;5;33mConv2D\u001b[0m)                  │ (\u001b[38;5;45mNone\u001b[0m, \u001b[38;5;34m30\u001b[0m, \u001b[38;5;34m30\u001b[0m, \u001b[38;5;34m256\u001b[0m)         │         \u001b[38;5;34m295,168\u001b[0m │\n",
       "├──────────────────────────────────────┼─────────────────────────────┼─────────────────┤\n",
       "│ conv2d_269 (\u001b[38;5;33mConv2D\u001b[0m)                  │ (\u001b[38;5;45mNone\u001b[0m, \u001b[38;5;34m28\u001b[0m, \u001b[38;5;34m28\u001b[0m, \u001b[38;5;34m256\u001b[0m)         │         \u001b[38;5;34m590,080\u001b[0m │\n",
       "├──────────────────────────────────────┼─────────────────────────────┼─────────────────┤\n",
       "│ max_pooling2d_131 (\u001b[38;5;33mMaxPooling2D\u001b[0m)     │ (\u001b[38;5;45mNone\u001b[0m, \u001b[38;5;34m14\u001b[0m, \u001b[38;5;34m14\u001b[0m, \u001b[38;5;34m256\u001b[0m)         │               \u001b[38;5;34m0\u001b[0m │\n",
       "├──────────────────────────────────────┼─────────────────────────────┼─────────────────┤\n",
       "│ conv2d_270 (\u001b[38;5;33mConv2D\u001b[0m)                  │ (\u001b[38;5;45mNone\u001b[0m, \u001b[38;5;34m14\u001b[0m, \u001b[38;5;34m14\u001b[0m, \u001b[38;5;34m512\u001b[0m)         │       \u001b[38;5;34m1,180,160\u001b[0m │\n",
       "├──────────────────────────────────────┼─────────────────────────────┼─────────────────┤\n",
       "│ conv2d_271 (\u001b[38;5;33mConv2D\u001b[0m)                  │ (\u001b[38;5;45mNone\u001b[0m, \u001b[38;5;34m12\u001b[0m, \u001b[38;5;34m12\u001b[0m, \u001b[38;5;34m512\u001b[0m)         │       \u001b[38;5;34m2,359,808\u001b[0m │\n",
       "├──────────────────────────────────────┼─────────────────────────────┼─────────────────┤\n",
       "│ max_pooling2d_132 (\u001b[38;5;33mMaxPooling2D\u001b[0m)     │ (\u001b[38;5;45mNone\u001b[0m, \u001b[38;5;34m6\u001b[0m, \u001b[38;5;34m6\u001b[0m, \u001b[38;5;34m512\u001b[0m)           │               \u001b[38;5;34m0\u001b[0m │\n",
       "├──────────────────────────────────────┼─────────────────────────────┼─────────────────┤\n",
       "│ dropout_30 (\u001b[38;5;33mDropout\u001b[0m)                 │ (\u001b[38;5;45mNone\u001b[0m, \u001b[38;5;34m6\u001b[0m, \u001b[38;5;34m6\u001b[0m, \u001b[38;5;34m512\u001b[0m)           │               \u001b[38;5;34m0\u001b[0m │\n",
       "├──────────────────────────────────────┼─────────────────────────────┼─────────────────┤\n",
       "│ flatten_27 (\u001b[38;5;33mFlatten\u001b[0m)                 │ (\u001b[38;5;45mNone\u001b[0m, \u001b[38;5;34m18432\u001b[0m)               │               \u001b[38;5;34m0\u001b[0m │\n",
       "├──────────────────────────────────────┼─────────────────────────────┼─────────────────┤\n",
       "│ dense_57 (\u001b[38;5;33mDense\u001b[0m)                     │ (\u001b[38;5;45mNone\u001b[0m, \u001b[38;5;34m1500\u001b[0m)                │      \u001b[38;5;34m27,649,500\u001b[0m │\n",
       "├──────────────────────────────────────┼─────────────────────────────┼─────────────────┤\n",
       "│ dropout_31 (\u001b[38;5;33mDropout\u001b[0m)                 │ (\u001b[38;5;45mNone\u001b[0m, \u001b[38;5;34m1500\u001b[0m)                │               \u001b[38;5;34m0\u001b[0m │\n",
       "├──────────────────────────────────────┼─────────────────────────────┼─────────────────┤\n",
       "│ dense_58 (\u001b[38;5;33mDense\u001b[0m)                     │ (\u001b[38;5;45mNone\u001b[0m, \u001b[38;5;34m4\u001b[0m)                   │           \u001b[38;5;34m6,004\u001b[0m │\n",
       "└──────────────────────────────────────┴─────────────────────────────┴─────────────────┘\n"
      ]
     },
     "metadata": {},
     "output_type": "display_data"
    },
    {
     "data": {
      "text/html": [
       "<pre style=\"white-space:pre;overflow-x:auto;line-height:normal;font-family:Menlo,'DejaVu Sans Mono',consolas,'Courier New',monospace\"><span style=\"font-weight: bold\"> Total params: </span><span style=\"color: #00af00; text-decoration-color: #00af00\">32,367,728</span> (123.47 MB)\n",
       "</pre>\n"
      ],
      "text/plain": [
       "\u001b[1m Total params: \u001b[0m\u001b[38;5;34m32,367,728\u001b[0m (123.47 MB)\n"
      ]
     },
     "metadata": {},
     "output_type": "display_data"
    },
    {
     "data": {
      "text/html": [
       "<pre style=\"white-space:pre;overflow-x:auto;line-height:normal;font-family:Menlo,'DejaVu Sans Mono',consolas,'Courier New',monospace\"><span style=\"font-weight: bold\"> Trainable params: </span><span style=\"color: #00af00; text-decoration-color: #00af00\">32,367,728</span> (123.47 MB)\n",
       "</pre>\n"
      ],
      "text/plain": [
       "\u001b[1m Trainable params: \u001b[0m\u001b[38;5;34m32,367,728\u001b[0m (123.47 MB)\n"
      ]
     },
     "metadata": {},
     "output_type": "display_data"
    },
    {
     "data": {
      "text/html": [
       "<pre style=\"white-space:pre;overflow-x:auto;line-height:normal;font-family:Menlo,'DejaVu Sans Mono',consolas,'Courier New',monospace\"><span style=\"font-weight: bold\"> Non-trainable params: </span><span style=\"color: #00af00; text-decoration-color: #00af00\">0</span> (0.00 B)\n",
       "</pre>\n"
      ],
      "text/plain": [
       "\u001b[1m Non-trainable params: \u001b[0m\u001b[38;5;34m0\u001b[0m (0.00 B)\n"
      ]
     },
     "metadata": {},
     "output_type": "display_data"
    }
   ],
   "source": [
    "model.summary()"
   ]
  },
  {
   "cell_type": "code",
   "execution_count": 494,
   "id": "0fd7b123-553c-4c9d-9013-8a63586c18c4",
   "metadata": {},
   "outputs": [
    {
     "name": "stdout",
     "output_type": "stream",
     "text": [
      "Epoch 1/10\n",
      "\u001b[1m30/30\u001b[0m \u001b[32m━━━━━━━━━━━━━━━━━━━━\u001b[0m\u001b[37m\u001b[0m \u001b[1m201s\u001b[0m 6s/step - accuracy: 0.5260 - loss: 2.7798 - val_accuracy: 0.8125 - val_loss: 0.5766\n",
      "Epoch 2/10\n",
      "\u001b[1m30/30\u001b[0m \u001b[32m━━━━━━━━━━━━━━━━━━━━\u001b[0m\u001b[37m\u001b[0m \u001b[1m216s\u001b[0m 7s/step - accuracy: 0.8151 - loss: 0.4756 - val_accuracy: 0.7469 - val_loss: 0.6504\n",
      "Epoch 3/10\n",
      "\u001b[1m30/30\u001b[0m \u001b[32m━━━━━━━━━━━━━━━━━━━━\u001b[0m\u001b[37m\u001b[0m \u001b[1m349s\u001b[0m 12s/step - accuracy: 0.8338 - loss: 0.3779 - val_accuracy: 0.6812 - val_loss: 0.9453\n",
      "Epoch 4/10\n",
      "\u001b[1m30/30\u001b[0m \u001b[32m━━━━━━━━━━━━━━━━━━━━\u001b[0m\u001b[37m\u001b[0m \u001b[1m317s\u001b[0m 11s/step - accuracy: 0.8776 - loss: 0.3658 - val_accuracy: 0.7969 - val_loss: 0.5226\n",
      "Epoch 5/10\n",
      "\u001b[1m30/30\u001b[0m \u001b[32m━━━━━━━━━━━━━━━━━━━━\u001b[0m\u001b[37m\u001b[0m \u001b[1m321s\u001b[0m 11s/step - accuracy: 0.9109 - loss: 0.2231 - val_accuracy: 0.8219 - val_loss: 0.4370\n",
      "Epoch 6/10\n",
      "\u001b[1m30/30\u001b[0m \u001b[32m━━━━━━━━━━━━━━━━━━━━\u001b[0m\u001b[37m\u001b[0m \u001b[1m372s\u001b[0m 12s/step - accuracy: 0.9191 - loss: 0.2227 - val_accuracy: 0.9344 - val_loss: 0.1869\n",
      "Epoch 7/10\n",
      "\u001b[1m30/30\u001b[0m \u001b[32m━━━━━━━━━━━━━━━━━━━━\u001b[0m\u001b[37m\u001b[0m \u001b[1m255s\u001b[0m 8s/step - accuracy: 0.9517 - loss: 0.1521 - val_accuracy: 0.9344 - val_loss: 0.1793\n",
      "Epoch 8/10\n",
      "\u001b[1m30/30\u001b[0m \u001b[32m━━━━━━━━━━━━━━━━━━━━\u001b[0m\u001b[37m\u001b[0m \u001b[1m246s\u001b[0m 8s/step - accuracy: 0.9582 - loss: 0.1430 - val_accuracy: 0.9375 - val_loss: 0.2035\n",
      "Epoch 9/10\n",
      "\u001b[1m30/30\u001b[0m \u001b[32m━━━━━━━━━━━━━━━━━━━━\u001b[0m\u001b[37m\u001b[0m \u001b[1m195s\u001b[0m 7s/step - accuracy: 0.9609 - loss: 0.1240 - val_accuracy: 0.9531 - val_loss: 0.1528\n",
      "Epoch 10/10\n",
      "\u001b[1m30/30\u001b[0m \u001b[32m━━━━━━━━━━━━━━━━━━━━\u001b[0m\u001b[37m\u001b[0m \u001b[1m614s\u001b[0m 21s/step - accuracy: 0.9739 - loss: 0.0641 - val_accuracy: 0.9500 - val_loss: 0.2241\n"
     ]
    }
   ],
   "source": [
    "training_history = model.fit(x=training_set,validation_data=validation_set,epochs=10)"
   ]
  },
  {
   "cell_type": "code",
   "execution_count": null,
   "id": "2179e337-01fe-4e18-9bf4-93d5d7fa4bdb",
   "metadata": {},
   "outputs": [],
   "source": []
  },
  {
   "cell_type": "code",
   "execution_count": 495,
   "id": "b3a68151-9443-47c1-a289-60448c0e5752",
   "metadata": {},
   "outputs": [],
   "source": [
    "#Model Evaluation"
   ]
  },
  {
   "cell_type": "code",
   "execution_count": 496,
   "id": "a7a30042-6548-4107-b8fb-384035962b77",
   "metadata": {},
   "outputs": [
    {
     "name": "stdout",
     "output_type": "stream",
     "text": [
      "\u001b[1m30/30\u001b[0m \u001b[32m━━━━━━━━━━━━━━━━━━━━\u001b[0m\u001b[37m\u001b[0m \u001b[1m96s\u001b[0m 3s/step - accuracy: 0.9791 - loss: 0.0522\n"
     ]
    }
   ],
   "source": [
    "#Model Evaluation on Training Set\n",
    "train_loss,train_acc = model.evaluate(training_set)"
   ]
  },
  {
   "cell_type": "code",
   "execution_count": 497,
   "id": "d14cf471-23c0-46ac-8144-cb060889a289",
   "metadata": {},
   "outputs": [
    {
     "name": "stdout",
     "output_type": "stream",
     "text": [
      "0.04764964058995247 0.986066460609436\n"
     ]
    }
   ],
   "source": [
    "print(train_loss,train_acc)"
   ]
  },
  {
   "cell_type": "code",
   "execution_count": 498,
   "id": "fa012167-7fd8-47ce-90a3-4969ca3d973e",
   "metadata": {},
   "outputs": [
    {
     "name": "stdout",
     "output_type": "stream",
     "text": [
      "\u001b[1m10/10\u001b[0m \u001b[32m━━━━━━━━━━━━━━━━━━━━\u001b[0m\u001b[37m\u001b[0m \u001b[1m15s\u001b[0m 1s/step - accuracy: 0.9446 - loss: 0.2229\n"
     ]
    }
   ],
   "source": [
    "#Model Evaluation on Training Set\n",
    "val_loss,val_acc = model.evaluate(validation_set)"
   ]
  },
  {
   "cell_type": "code",
   "execution_count": 499,
   "id": "f25489d6-9565-4461-a925-ccc132d15f65",
   "metadata": {},
   "outputs": [
    {
     "name": "stdout",
     "output_type": "stream",
     "text": [
      "0.22405031323432922 0.949999988079071\n"
     ]
    }
   ],
   "source": [
    "print(val_loss,val_acc)"
   ]
  },
  {
   "cell_type": "code",
   "execution_count": null,
   "id": "3f8c1539-c2b3-4bc9-b2fa-837bb3f3146a",
   "metadata": {},
   "outputs": [],
   "source": []
  },
  {
   "cell_type": "code",
   "execution_count": 500,
   "id": "70ce7c56-c81a-41ee-91db-0f71d776fd9c",
   "metadata": {},
   "outputs": [],
   "source": [
    "#Saving model"
   ]
  },
  {
   "cell_type": "code",
   "execution_count": 502,
   "id": "359f640c-2bfd-4da1-b8ba-a1c557f31c12",
   "metadata": {},
   "outputs": [],
   "source": [
    "model.save(\"trained_model.keras\")"
   ]
  },
  {
   "cell_type": "code",
   "execution_count": 503,
   "id": "91bf8596-d951-42e7-8dc6-9b5a66d688a6",
   "metadata": {},
   "outputs": [
    {
     "data": {
      "text/plain": [
       "{'accuracy': [0.6377277374267578,\n",
       "  0.821007490158081,\n",
       "  0.8703108429908752,\n",
       "  0.8992497324943542,\n",
       "  0.9217577576637268,\n",
       "  0.9271168112754822,\n",
       "  0.9464094042778015,\n",
       "  0.9549839496612549,\n",
       "  0.971061110496521,\n",
       "  0.9699892997741699],\n",
       " 'loss': [1.4296845197677612,\n",
       "  0.44007596373558044,\n",
       "  0.31222814321517944,\n",
       "  0.28932985663414,\n",
       "  0.20300598442554474,\n",
       "  0.19775602221488953,\n",
       "  0.16964739561080933,\n",
       "  0.14367492496967316,\n",
       "  0.09298434853553772,\n",
       "  0.06601102650165558],\n",
       " 'val_accuracy': [0.8125,\n",
       "  0.746874988079071,\n",
       "  0.6812499761581421,\n",
       "  0.796875,\n",
       "  0.8218749761581421,\n",
       "  0.934374988079071,\n",
       "  0.934374988079071,\n",
       "  0.9375,\n",
       "  0.953125,\n",
       "  0.949999988079071],\n",
       " 'val_loss': [0.576644241809845,\n",
       "  0.6504161953926086,\n",
       "  0.945259690284729,\n",
       "  0.5226227641105652,\n",
       "  0.4369601309299469,\n",
       "  0.18691544234752655,\n",
       "  0.17925165593624115,\n",
       "  0.20354075729846954,\n",
       "  0.1528281718492508,\n",
       "  0.22405031323432922]}"
      ]
     },
     "execution_count": 503,
     "metadata": {},
     "output_type": "execute_result"
    }
   ],
   "source": [
    "training_history.history"
   ]
  },
  {
   "cell_type": "code",
   "execution_count": 504,
   "id": "67f5f613-b964-4e55-9730-fe978e6c9469",
   "metadata": {},
   "outputs": [],
   "source": [
    "#recording history in json\n",
    "import json\n",
    "with open(\"training_hist.json\",\"w\") as f:\n",
    "    json.dump(training_history.history,f)"
   ]
  },
  {
   "cell_type": "code",
   "execution_count": 510,
   "id": "49af6d32-bf7f-459d-a463-6fe3438f8e9d",
   "metadata": {},
   "outputs": [
    {
     "data": {
      "text/plain": [
       "[0.8125,\n",
       " 0.746874988079071,\n",
       " 0.6812499761581421,\n",
       " 0.796875,\n",
       " 0.8218749761581421,\n",
       " 0.934374988079071,\n",
       " 0.934374988079071,\n",
       " 0.9375,\n",
       " 0.953125,\n",
       " 0.949999988079071]"
      ]
     },
     "execution_count": 510,
     "metadata": {},
     "output_type": "execute_result"
    }
   ],
   "source": [
    "training_history.history['val_accuracy']"
   ]
  },
  {
   "cell_type": "code",
   "execution_count": 505,
   "id": "92cfbbc1-987f-42ba-ba34-9b175f05090c",
   "metadata": {},
   "outputs": [],
   "source": [
    "##Acuracy Validation"
   ]
  },
  {
   "cell_type": "code",
   "execution_count": 515,
   "id": "ca3b00a4-4f6c-4e29-b1ae-8d01336148d4",
   "metadata": {},
   "outputs": [
    {
     "data": {
      "image/png": "[encoded data removed]",
      "text/plain": [
       "<Figure size 640x480 with 1 Axes>"
      ]
     },
     "metadata": {},
     "output_type": "display_data"
    }
   ],
   "source": [
    "epochs = [i for i in range(1,11)]\n",
    "plt.plot(epochs,training_history.history['accuracy'],color='blue',label='Training Accuracy')\n",
    "plt.plot(epochs,training_history.history['val_accuracy'],color='yellow',label='Validation Accuracy')\n",
    "plt.xlabel(\"No.of Epochs\")\n",
    "plt.ylabel(\"Accuracy Result\")\n",
    "plt.title(\"Visualization of Accuracy Result\")\n",
    "plt.legend()\n",
    "plt.show()"
   ]
  },
  {
   "cell_type": "code",
   "execution_count": null,
   "id": "bbedaaa4-4b13-4845-a25c-bee95236f316",
   "metadata": {},
   "outputs": [],
   "source": []
  },
  {
   "cell_type": "code",
   "execution_count": 516,
   "id": "a8558a4f-91ed-4baa-8e7d-f320da14531a",
   "metadata": {},
   "outputs": [],
   "source": [
    "###Some other metrics for model evaluation"
   ]
  },
  {
   "cell_type": "code",
   "execution_count": 518,
   "id": "2c47ef94-677c-4b39-8bac-411ed9e03755",
   "metadata": {},
   "outputs": [
    {
     "data": {
      "text/plain": [
       "['Fresh_State', 'Last_stage', 'Mid_Stage', 'labels']"
      ]
     },
     "execution_count": 518,
     "metadata": {},
     "output_type": "execute_result"
    }
   ],
   "source": [
    "class_name = validation_set.class_names\n",
    "class_name"
   ]
  },
  {
   "cell_type": "code",
   "execution_count": null,
   "id": "6d025a59-8d06-4662-bbf3-84af036f705a",
   "metadata": {},
   "outputs": [],
   "source": []
  },
  {
   "cell_type": "code",
   "execution_count": 519,
   "id": "a145f067-91cf-4a8f-9100-6768ef96db8f",
   "metadata": {},
   "outputs": [
    {
     "name": "stdout",
     "output_type": "stream",
     "text": [
      "Found 320 files belonging to 4 classes.\n"
     ]
    }
   ],
   "source": [
    "test_set = validation_set = tf.keras.utils.image_dataset_from_directory(\n",
    "    'valid',\n",
    "    labels=\"inferred\",\n",
    "    label_mode=\"categorical\",\n",
    "    class_names=None,\n",
    "    color_mode=\"rgb\",\n",
    "    batch_size=32,\n",
    "    image_size=(256, 256),\n",
    "    shuffle=False,\n",
    "    seed=None,\n",
    "    validation_split=None,\n",
    "    subset=None,\n",
    "    interpolation=\"bilinear\",\n",
    "    follow_links=False,\n",
    "    crop_to_aspect_ratio=False,\n",
    "    pad_to_aspect_ratio=False,\n",
    ")"
   ]
  },
  {
   "cell_type": "code",
   "execution_count": 520,
   "id": "c36a900f-24c1-497e-82f8-06d71dc39ddc",
   "metadata": {},
   "outputs": [
    {
     "name": "stdout",
     "output_type": "stream",
     "text": [
      "\u001b[1m10/10\u001b[0m \u001b[32m━━━━━━━━━━━━━━━━━━━━\u001b[0m\u001b[37m\u001b[0m \u001b[1m38s\u001b[0m 4s/step\n"
     ]
    },
    {
     "data": {
      "text/plain": [
       "(array([[1.03381113e-03, 1.38307433e-03, 9.97582555e-01, 5.79571292e-07],\n",
       "        [9.99752820e-01, 2.47173710e-04, 8.28633884e-10, 1.67488107e-11],\n",
       "        [9.44258451e-01, 5.57415150e-02, 1.02132365e-08, 1.82155166e-10],\n",
       "        ...,\n",
       "        [6.32055453e-04, 3.54960677e-04, 9.99010801e-01, 2.15937371e-06],\n",
       "        [4.47641639e-03, 2.93769961e-04, 9.95224714e-01, 5.04954733e-06],\n",
       "        [3.82142607e-03, 1.47889031e-03, 9.94689703e-01, 1.00055931e-05]],\n",
       "       dtype=float32),\n",
       " (320, 4))"
      ]
     },
     "execution_count": 520,
     "metadata": {},
     "output_type": "execute_result"
    }
   ],
   "source": [
    "y_pred = model.predict(test_set)\n",
    "y_pred,y_pred.shape"
   ]
  },
  {
   "cell_type": "code",
   "execution_count": 521,
   "id": "5da0e18a-02b5-4042-b492-4db3186a0950",
   "metadata": {},
   "outputs": [],
   "source": [
    "predicted_categories = tf.argmax(y_pred,axis=1)"
   ]
  },
  {
   "cell_type": "code",
   "execution_count": 522,
   "id": "9af8d1bd-3d37-41ee-a4cc-318a9312bb30",
   "metadata": {},
   "outputs": [
    {
     "data": {
      "text/plain": [
       "<tf.Tensor: shape=(320,), dtype=int64, numpy=\n",
       "array([2, 0, 0, 1, 0, 0, 1, 1, 0, 0, 0, 2, 0, 0, 0, 0, 0, 0, 0, 0, 0, 0,\n",
       "       0, 0, 0, 0, 0, 0, 0, 0, 0, 0, 0, 2, 0, 0, 0, 0, 0, 0, 0, 0, 0, 0,\n",
       "       0, 0, 0, 0, 0, 0, 0, 0, 0, 0, 0, 0, 0, 0, 0, 0, 0, 0, 0, 0, 0, 0,\n",
       "       0, 0, 0, 0, 0, 0, 0, 0, 0, 0, 0, 0, 0, 0, 0, 0, 0, 0, 0, 0, 0, 0,\n",
       "       0, 0, 0, 0, 0, 0, 0, 0, 0, 0, 0, 0, 0, 0, 0, 0, 0, 0, 0, 0, 0, 0,\n",
       "       0, 0, 0, 0, 0, 0, 0, 0, 0, 0, 1, 1, 1, 1, 1, 1, 1, 0, 1, 1, 1, 1,\n",
       "       1, 1, 1, 1, 1, 1, 1, 1, 1, 1, 1, 1, 1, 1, 1, 1, 1, 1, 1, 1, 1, 1,\n",
       "       1, 1, 1, 1, 1, 1, 1, 1, 1, 1, 1, 1, 1, 1, 1, 2, 1, 1, 1, 1, 1, 1,\n",
       "       1, 1, 1, 1, 1, 1, 1, 0, 1, 0, 2, 1, 0, 0, 1, 2, 1, 1, 0, 1, 1, 1,\n",
       "       1, 1, 1, 1, 1, 1, 1, 1, 1, 1, 1, 0, 1, 1, 1, 1, 1, 1, 1, 1, 1, 1,\n",
       "       2, 2, 2, 2, 2, 2, 2, 2, 2, 2, 2, 2, 2, 2, 2, 2, 2, 2, 2, 2, 2, 2,\n",
       "       2, 2, 2, 2, 2, 2, 2, 2, 2, 2, 2, 2, 2, 2, 2, 2, 2, 2, 2, 2, 2, 2,\n",
       "       2, 2, 2, 2, 2, 2, 2, 2, 2, 2, 2, 2, 2, 2, 2, 2, 2, 2, 2, 2, 2, 2,\n",
       "       2, 2, 2, 2, 2, 2, 2, 2, 2, 2, 2, 2, 2, 2, 2, 2, 2, 2, 2, 2, 2, 2,\n",
       "       2, 2, 2, 2, 2, 2, 2, 2, 2, 2, 2, 2], dtype=int64)>"
      ]
     },
     "execution_count": 522,
     "metadata": {},
     "output_type": "execute_result"
    }
   ],
   "source": [
    "predicted_categories"
   ]
  },
  {
   "cell_type": "code",
   "execution_count": 524,
   "id": "ce500e48-8b9e-454b-b55f-96d3e484594f",
   "metadata": {},
   "outputs": [
    {
     "data": {
      "text/plain": [
       "<tf.Tensor: shape=(320, 4), dtype=float32, numpy=\n",
       "array([[1., 0., 0., 0.],\n",
       "       [1., 0., 0., 0.],\n",
       "       [1., 0., 0., 0.],\n",
       "       ...,\n",
       "       [0., 0., 1., 0.],\n",
       "       [0., 0., 1., 0.],\n",
       "       [0., 0., 1., 0.]], dtype=float32)>"
      ]
     },
     "execution_count": 524,
     "metadata": {},
     "output_type": "execute_result"
    }
   ],
   "source": [
    "true_categories = tf.concat([y for x,y in test_set],axis=0)\n",
    "true_categories"
   ]
  },
  {
   "cell_type": "code",
   "execution_count": 525,
   "id": "3020f8b0-d552-49bc-a9d9-41a1d6537e72",
   "metadata": {},
   "outputs": [
    {
     "data": {
      "text/plain": [
       "<tf.Tensor: shape=(320,), dtype=int64, numpy=\n",
       "array([0, 0, 0, 0, 0, 0, 0, 0, 0, 0, 0, 0, 0, 0, 0, 0, 0, 0, 0, 0, 0, 0,\n",
       "       0, 0, 0, 0, 0, 0, 0, 0, 0, 0, 0, 0, 0, 0, 0, 0, 0, 0, 0, 0, 0, 0,\n",
       "       0, 0, 0, 0, 0, 0, 0, 0, 0, 0, 0, 0, 0, 0, 0, 0, 0, 0, 0, 0, 0, 0,\n",
       "       0, 0, 0, 0, 0, 0, 0, 0, 0, 0, 0, 0, 0, 0, 0, 0, 0, 0, 0, 0, 0, 0,\n",
       "       0, 0, 0, 0, 0, 0, 0, 0, 0, 0, 0, 0, 0, 0, 0, 0, 0, 0, 0, 0, 0, 0,\n",
       "       0, 0, 0, 0, 0, 0, 0, 0, 0, 0, 1, 1, 1, 1, 1, 1, 1, 1, 1, 1, 1, 1,\n",
       "       1, 1, 1, 1, 1, 1, 1, 1, 1, 1, 1, 1, 1, 1, 1, 1, 1, 1, 1, 1, 1, 1,\n",
       "       1, 1, 1, 1, 1, 1, 1, 1, 1, 1, 1, 1, 1, 1, 1, 1, 1, 1, 1, 1, 1, 1,\n",
       "       1, 1, 1, 1, 1, 1, 1, 1, 1, 1, 1, 1, 1, 1, 1, 1, 1, 1, 1, 1, 1, 1,\n",
       "       1, 1, 1, 1, 1, 1, 1, 1, 1, 1, 1, 1, 1, 1, 1, 1, 1, 1, 1, 1, 1, 1,\n",
       "       2, 2, 2, 2, 2, 2, 2, 2, 2, 2, 2, 2, 2, 2, 2, 2, 2, 2, 2, 2, 2, 2,\n",
       "       2, 2, 2, 2, 2, 2, 2, 2, 2, 2, 2, 2, 2, 2, 2, 2, 2, 2, 2, 2, 2, 2,\n",
       "       2, 2, 2, 2, 2, 2, 2, 2, 2, 2, 2, 2, 2, 2, 2, 2, 2, 2, 2, 2, 2, 2,\n",
       "       2, 2, 2, 2, 2, 2, 2, 2, 2, 2, 2, 2, 2, 2, 2, 2, 2, 2, 2, 2, 2, 2,\n",
       "       2, 2, 2, 2, 2, 2, 2, 2, 2, 2, 2, 2], dtype=int64)>"
      ]
     },
     "execution_count": 525,
     "metadata": {},
     "output_type": "execute_result"
    }
   ],
   "source": [
    "Y_true = tf.argmax(true_categories,axis=1)\n",
    "Y_true"
   ]
  },
  {
   "cell_type": "code",
   "execution_count": null,
   "id": "9549a29a-1ed8-4af6-9832-68ce260c9304",
   "metadata": {},
   "outputs": [],
   "source": [
    "!pip install scikit-learn"
   ]
  },
  {
   "cell_type": "code",
   "execution_count": 536,
   "id": "9541438d-c061-4ac3-a659-ef7a3ac7345a",
   "metadata": {},
   "outputs": [],
   "source": [
    "from sklearn.metrics import classification_report"
   ]
  },
  {
   "cell_type": "code",
   "execution_count": 539,
   "id": "7228ecbd-5828-4425-8b7f-25dfc4e30d07",
   "metadata": {},
   "outputs": [
    {
     "name": "stdout",
     "output_type": "stream",
     "text": [
      "Unique Classes: [0 1 2]\n"
     ]
    }
   ],
   "source": [
    "import numpy as np\n",
    "\n",
    "unique_classes = np.unique(Y_true)\n",
    "print(\"Unique Classes:\", unique_classes)\n"
   ]
  },
  {
   "cell_type": "code",
   "execution_count": 540,
   "id": "3dedf9bd-347f-4308-9725-470ad80a2623",
   "metadata": {},
   "outputs": [],
   "source": [
    "class_names = ['Fresh_State', 'Last_stage', 'Mid_Stage']  # Replace with actual class names\n"
   ]
  },
  {
   "cell_type": "code",
   "execution_count": 545,
   "id": "7b8a9f7e-2f4b-4e47-ab59-1cec5017f19b",
   "metadata": {},
   "outputs": [],
   "source": [
    "from sklearn.metrics import classification_report, confusion_matrix"
   ]
  },
  {
   "cell_type": "code",
   "execution_count": 543,
   "id": "c443cfa7-2572-435c-88bf-e467b8ab29d7",
   "metadata": {},
   "outputs": [
    {
     "name": "stdout",
     "output_type": "stream",
     "text": [
      "              precision    recall  f1-score   support\n",
      "\n",
      " Fresh_State       0.94      0.95      0.95       120\n",
      "  Last_stage       0.97      0.90      0.93       100\n",
      "   Mid_Stage       0.94      1.00      0.97       100\n",
      "\n",
      "    accuracy                           0.95       320\n",
      "   macro avg       0.95      0.95      0.95       320\n",
      "weighted avg       0.95      0.95      0.95       320\n",
      "\n"
     ]
    }
   ],
   "source": [
    "print(classification_report(Y_true, predicted_categories, target_names=class_names))"
   ]
  },
  {
   "cell_type": "code",
   "execution_count": 549,
   "id": "0112a012-4270-4f62-a00d-30ae04d50a6b",
   "metadata": {},
   "outputs": [
    {
     "data": {
      "text/plain": [
       "array([[114,   3,   3],\n",
       "       [  7,  90,   3],\n",
       "       [  0,   0, 100]], dtype=int64)"
      ]
     },
     "execution_count": 549,
     "metadata": {},
     "output_type": "execute_result"
    }
   ],
   "source": [
    "cm = confusion_matrix(Y_true,predicted_categories)\n",
    "cm"
   ]
  },
  {
   "cell_type": "code",
   "execution_count": null,
   "id": "28745842-8ce0-4c87-a9b8-ed582972fdb9",
   "metadata": {},
   "outputs": [],
   "source": []
  },
  {
   "cell_type": "code",
   "execution_count": 550,
   "id": "4934851c-def3-457f-87f7-581f8a7a1ba9",
   "metadata": {},
   "outputs": [],
   "source": [
    "##Confusion Mtrix Visualization"
   ]
  },
  {
   "cell_type": "code",
   "execution_count": 563,
   "id": "5aec8ba8-faed-472c-8fd9-2edd297e5bb7",
   "metadata": {
    "scrolled": true
   },
   "outputs": [
    {
     "data": {
      "image/png": "[encoded data removed]",
      "text/plain": [
       "<Figure size 4000x4000 with 2 Axes>"
      ]
     },
     "metadata": {},
     "output_type": "display_data"
    }
   ],
   "source": [
    "plt.figure(figsize=(40,40))\n",
    "sns.heatmap(cm,annot=True,annot_kws={'size':30})\n",
    "plt.xlabel(\"Predicted Class\",fontsize=40)\n",
    "plt.ylabel(\"Actual Class\",fontsize=40)\n",
    "plt.title(\"Apple Stages Detection Confusion Matrix\",fontsize=25)\n",
    "plt.show()"
   ]
  },
  {
   "cell_type": "code",
   "execution_count": null,
   "id": "2b19a150-6cae-463b-8643-c35fdc3c8dbd",
   "metadata": {},
   "outputs": [],
   "source": []
  }
 ],
 "metadata": {
  "kernelspec": {
   "display_name": "Python 3 (ipykernel)",
   "language": "python",
   "name": "python3"
  },
  "language_info": {
   "codemirror_mode": {
    "name": "ipython",
    "version": 3
   },
   "file_extension": ".py",
   "mimetype": "text/x-python",
   "name": "python",
   "nbconvert_exporter": "python",
   "pygments_lexer": "ipython3",
   "version": "3.12.2"
  }
 },
 "nbformat": 4,
 "nbformat_minor": 5
}
